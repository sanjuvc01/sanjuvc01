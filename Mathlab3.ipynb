{
  "nbformat": 4,
  "nbformat_minor": 0,
  "metadata": {
    "colab": {
      "provenance": [],
      "authorship_tag": "ABX9TyOFESIIaPYrRxUXq4Pudor2",
      "include_colab_link": true
    },
    "kernelspec": {
      "name": "python3",
      "display_name": "Python 3"
    },
    "language_info": {
      "name": "python"
    }
  },
  "cells": [
    {
      "cell_type": "markdown",
      "metadata": {
        "id": "view-in-github",
        "colab_type": "text"
      },
      "source": [
        "<a href=\"https://colab.research.google.com/github/sanjuvc01/sanjuvc01/blob/main/Mathlab3.ipynb\" target=\"_parent\"><img src=\"https://colab.research.google.com/assets/colab-badge.svg\" alt=\"Open In Colab\"/></a>"
      ]
    },
    {
      "source": [
        "from sympy import *\n",
        "x , y = symbols ('x y')\n",
        "u=exp( x )*( x*cos( y )-y*sin( y ) ) # input mutivariable function u=u(x,y)\n",
        "dux = diff (u , x ) # Differentate u w.r.t x\n",
        "duy = diff (u , y ) # Differentate u w.r.t. y\n",
        "duxy = diff ( dux , y ) # or duxy = diff (u,x,y)\n",
        "duyx = diff ( duy , x ) # or duyx = diff (u,y,x)\n",
        "# Check the condtion uxy=uyx\n",
        "if duxy == duyx :\n",
        "    print ('Mixed partial derivatives are equal ') # Indented this line\n",
        "else :\n",
        "    print ('Mixed partial derivatives are not equal ') # Indented this line"
      ],
      "cell_type": "code",
      "metadata": {
        "colab": {
          "base_uri": "https://localhost:8080/"
        },
        "id": "RyASxHEYOJq0",
        "outputId": "8bcc834a-45ba-4ef0-d9de-fcf461ff6dea"
      },
      "execution_count": 2,
      "outputs": [
        {
          "output_type": "stream",
          "name": "stdout",
          "text": [
            "Mixed partial derivatives are equal \n"
          ]
        }
      ]
    },
    {
      "cell_type": "code",
      "source": [
        "from sympy import *\n",
        "x , y = symbols ('x y')\n",
        "u=exp( x )*( x*cos( y )-y*sin( y ) )\n",
        "display ( u )\n",
        "dux = diff (u , x )\n",
        "duy = diff (u , y )\n",
        "uxx = diff ( dux , x ) # or uxx= diff (u,x,x) second derivative of u w.r.t x\n",
        "uyy = diff ( duy , y ) # or uyy= diff (u,y,y) second derivative of u w.r.t y\n",
        "w=uxx+uyy # Add uxx and uyy\n",
        "w1= simplify ( w ) # Simply the w to get actual result\n",
        "print ('Ans :',float ( w1 ) )"
      ],
      "metadata": {
        "colab": {
          "base_uri": "https://localhost:8080/",
          "height": 56
        },
        "id": "RjnIRGRoOyRC",
        "outputId": "89f902d1-4004-4a08-80c6-6fea872aed8e"
      },
      "execution_count": 5,
      "outputs": [
        {
          "output_type": "display_data",
          "data": {
            "text/plain": [
              "(x*cos(y) - y*sin(y))*exp(x)"
            ],
            "text/latex": "$\\displaystyle \\left(x \\cos{\\left(y \\right)} - y \\sin{\\left(y \\right)}\\right) e^{x}$"
          },
          "metadata": {}
        },
        {
          "output_type": "stream",
          "name": "stdout",
          "text": [
            "Ans : 0.0\n"
          ]
        }
      ]
    },
    {
      "cell_type": "code",
      "source": [
        "from sympy import *\n",
        "x ,y , z= symbols ('x,y,z')\n",
        "u=x*y/z\n",
        "v=y*z/x\n",
        "w=z*x/y\n",
        "# find the all first order partial derivates\n",
        "dux = diff (u , x )\n",
        "duy = diff (u , y )\n",
        "duz = diff (u , z )\n",
        "dvx = diff (v , x )\n",
        "dvy = diff (v , y )\n",
        "dvz = diff (v , z )\n",
        "dwx = diff (w , x )\n",
        "dwy = diff (w , y )\n",
        "dwz = diff (w , z )\n",
        "# construct the Jacobian matrix\n",
        "J= Matrix ([[dux , duy , duz],[dvx , dvy , dvz],[dwx , dwy , dwz]]) ;\n",
        "print (\"The Jacobian matrix is \\n\")\n",
        "display ( J )\n",
        "# Find the determinat of Jacobian Matrix\n",
        "Jac =det ( J ) . doit ()\n",
        "print ('\\n\\n J = ', Jac )"
      ],
      "metadata": {
        "colab": {
          "base_uri": "https://localhost:8080/",
          "height": 167
        },
        "id": "kwW9w4_5O46z",
        "outputId": "ae8c7a78-b5af-449f-ac11-e8f29f2a0b57"
      },
      "execution_count": 6,
      "outputs": [
        {
          "output_type": "stream",
          "name": "stdout",
          "text": [
            "The Jacobian matrix is \n",
            "\n"
          ]
        },
        {
          "output_type": "display_data",
          "data": {
            "text/plain": [
              "Matrix([\n",
              "[      y/z,       x/z, -x*y/z**2],\n",
              "[-y*z/x**2,       z/x,       y/x],\n",
              "[      z/y, -x*z/y**2,       x/y]])"
            ],
            "text/latex": "$\\displaystyle \\left[\\begin{matrix}\\frac{y}{z} & \\frac{x}{z} & - \\frac{x y}{z^{2}}\\\\- \\frac{y z}{x^{2}} & \\frac{z}{x} & \\frac{y}{x}\\\\\\frac{z}{y} & - \\frac{x z}{y^{2}} & \\frac{x}{y}\\end{matrix}\\right]$"
          },
          "metadata": {}
        },
        {
          "output_type": "stream",
          "name": "stdout",
          "text": [
            "\n",
            "\n",
            " J =  4\n"
          ]
        }
      ]
    },
    {
      "cell_type": "code",
      "source": [
        "from sympy import *\n",
        "x ,y , z= symbols ('x,y,z')\n",
        "u=x+3*y ** 2-z ** 3\n",
        "v=4*x ** 2*y*z\n",
        "w=2*z*z ** 2-x*y\n",
        "dux = diff (u , x )\n",
        "duy = diff (u , y )\n",
        "duz = diff (u , z )\n",
        "dvx = diff (v , x )\n",
        "dvy = diff (v , y )\n",
        "dvz = diff (v , z )\n",
        "dwx = diff (w , x )\n",
        "dwy = diff (w , y )\n",
        "dwz = diff (w , z )\n",
        "J= Matrix ([[dux , duy , duz],[dvx , dvy , dvz],[dwx , dwy , dwz]]) ;\n",
        "print (\"The Jacobian matrix is \")\n",
        "display ( J )\n",
        "Jac = Determinant ( J ) . doit ()\n",
        "print ('\\n\\n J = \\n')\n",
        "display ( Jac )\n",
        "J1=J . subs ([(x , 1 ) , (y , -1 ) , (z , 0 )])\n",
        "print ('\\n\\n J at (1, -1,0):\\n')\n",
        "Jac1 = Determinant ( J1 ) . doit ()\n",
        "display ( Jac1 )"
      ],
      "metadata": {
        "colab": {
          "base_uri": "https://localhost:8080/",
          "height": 299
        },
        "id": "TqZKThIuPEHY",
        "outputId": "87f47817-0175-4f23-e4d7-b98b0c5c4b02"
      },
      "execution_count": 7,
      "outputs": [
        {
          "output_type": "stream",
          "name": "stdout",
          "text": [
            "The Jacobian matrix is \n"
          ]
        },
        {
          "output_type": "display_data",
          "data": {
            "text/plain": [
              "Matrix([\n",
              "[      1,      6*y,  -3*z**2],\n",
              "[8*x*y*z, 4*x**2*z, 4*x**2*y],\n",
              "[     -y,       -x,   6*z**2]])"
            ],
            "text/latex": "$\\displaystyle \\left[\\begin{matrix}1 & 6 y & - 3 z^{2}\\\\8 x y z & 4 x^{2} z & 4 x^{2} y\\\\- y & - x & 6 z^{2}\\end{matrix}\\right]$"
          },
          "metadata": {}
        },
        {
          "output_type": "stream",
          "name": "stdout",
          "text": [
            "\n",
            "\n",
            " J = \n",
            "\n"
          ]
        },
        {
          "output_type": "display_data",
          "data": {
            "text/plain": [
              "4*x**3*y - 24*x**2*y**3 + 12*x**2*y*z**3 + 24*x**2*z**3 - 288*x*y**2*z**3"
            ],
            "text/latex": "$\\displaystyle 4 x^{3} y - 24 x^{2} y^{3} + 12 x^{2} y z^{3} + 24 x^{2} z^{3} - 288 x y^{2} z^{3}$"
          },
          "metadata": {}
        },
        {
          "output_type": "stream",
          "name": "stdout",
          "text": [
            "\n",
            "\n",
            " J at (1, -1,0):\n",
            "\n"
          ]
        },
        {
          "output_type": "display_data",
          "data": {
            "text/plain": [
              "20"
            ],
            "text/latex": "$\\displaystyle 20$"
          },
          "metadata": {}
        }
      ]
    },
    {
      "cell_type": "code",
      "source": [
        "from sympy import *\n",
        "from sympy . abc import rho , phi , theta\n",
        "X=rho*cos( phi )*sin( theta ) ;\n",
        "Y=rho*cos( phi )*cos( theta ) ;\n",
        "Z=rho*sin( phi ) ;\n",
        "dx= Derivative (X , rho ) . doit ()\n",
        "dy= Derivative (Y , rho ) . doit ()\n",
        "dz= Derivative (Z , rho ) . doit ()\n",
        "dx1 = Derivative (X , phi ) . doit () ;\n",
        "dy1 = Derivative (Y , phi ) . doit () ;\n",
        "dz1 = Derivative (Z , phi ) . doit ()\n",
        "dx2 = Derivative (X , theta ) . doit ()\n",
        "dy2 = Derivative (Y , theta ) . doit () ;\n",
        "dz2 = Derivative (Z , theta ) . doit () ;\n",
        "J= Matrix ([[dx , dy , dz],[dx1 , dy1 , dz1],[dx2 , dy2 , dz2]]) ;\n",
        "print ('The Jacobian matrix is ')\n",
        "display ( J )\n",
        "print ('\\n\\n J = \\n')\n",
        "display ( simplify ( Determinant ( J ) . doit () ) )"
      ],
      "metadata": {
        "colab": {
          "base_uri": "https://localhost:8080/",
          "height": 207
        },
        "id": "RTIQKKMdPNmP",
        "outputId": "34a0941a-70e6-4355-d197-588dbee2cd08"
      },
      "execution_count": 8,
      "outputs": [
        {
          "output_type": "stream",
          "name": "stdout",
          "text": [
            "The Jacobian matrix is \n"
          ]
        },
        {
          "output_type": "display_data",
          "data": {
            "text/plain": [
              "Matrix([\n",
              "[     sin(theta)*cos(phi),      cos(phi)*cos(theta),     sin(phi)],\n",
              "[-rho*sin(phi)*sin(theta), -rho*sin(phi)*cos(theta), rho*cos(phi)],\n",
              "[ rho*cos(phi)*cos(theta), -rho*sin(theta)*cos(phi),            0]])"
            ],
            "text/latex": "$\\displaystyle \\left[\\begin{matrix}\\sin{\\left(\\theta \\right)} \\cos{\\left(\\phi \\right)} & \\cos{\\left(\\phi \\right)} \\cos{\\left(\\theta \\right)} & \\sin{\\left(\\phi \\right)}\\\\- \\rho \\sin{\\left(\\phi \\right)} \\sin{\\left(\\theta \\right)} & - \\rho \\sin{\\left(\\phi \\right)} \\cos{\\left(\\theta \\right)} & \\rho \\cos{\\left(\\phi \\right)}\\\\\\rho \\cos{\\left(\\phi \\right)} \\cos{\\left(\\theta \\right)} & - \\rho \\sin{\\left(\\theta \\right)} \\cos{\\left(\\phi \\right)} & 0\\end{matrix}\\right]$"
          },
          "metadata": {}
        },
        {
          "output_type": "stream",
          "name": "stdout",
          "text": [
            "\n",
            "\n",
            " J = \n",
            "\n"
          ]
        },
        {
          "output_type": "display_data",
          "data": {
            "text/plain": [
              "rho**2*cos(phi)"
            ],
            "text/latex": "$\\displaystyle \\rho^{2} \\cos{\\left(\\phi \\right)}$"
          },
          "metadata": {}
        }
      ]
    }
  ]
}