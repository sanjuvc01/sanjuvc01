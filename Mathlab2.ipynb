{
  "nbformat": 4,
  "nbformat_minor": 0,
  "metadata": {
    "colab": {
      "provenance": [],
      "authorship_tag": "ABX9TyN6JpX//PV5N+ToD0VIiFn7",
      "include_colab_link": true
    },
    "kernelspec": {
      "name": "python3",
      "display_name": "Python 3"
    },
    "language_info": {
      "name": "python"
    }
  },
  "cells": [
    {
      "cell_type": "markdown",
      "metadata": {
        "id": "view-in-github",
        "colab_type": "text"
      },
      "source": [
        "<a href=\"https://colab.research.google.com/github/sanjuvc01/sanjuvc01/blob/main/Mathlab2.ipynb\" target=\"_parent\"><img src=\"https://colab.research.google.com/assets/colab-badge.svg\" alt=\"Open In Colab\"/></a>"
      ]
    },
    {
      "cell_type": "code",
      "source": [
        "from sympy import *\n",
        "r , t = symbols ('r,t')\n",
        "r1=4*( 1+cos ( t ) ) ;\n",
        "r2=5*( 1-cos ( t ) ) ;\n",
        "dr1 = diff ( r1 , t )\n",
        "dr2 = diff ( r2 , t )\n",
        "t1=r1/dr1\n",
        "t2=r2/dr2\n",
        "q= solve ( r1-r2 , t )\n",
        "w1=t1 . subs ({t: float ( q[1])})\n",
        "w2=t2 . subs ({t: float ( q[1])})\n",
        "y1= atan ( w1 )\n",
        "y2= atan ( w2 )\n",
        "w=abs( y1-y2 )\n",
        "print ('Angle between curves in radians is %0.3f '%( w ) )"
      ],
      "metadata": {
        "colab": {
          "base_uri": "https://localhost:8080/"
        },
        "id": "8rWDR7zu4d8Q",
        "outputId": "40e26f52-5726-47be-aa2d-bc6660cf12df"
      },
      "execution_count": null,
      "outputs": [
        {
          "output_type": "stream",
          "name": "stdout",
          "text": [
            "Angle between curves in radians is 1.571 \n"
          ]
        }
      ]
    },
    {
      "cell_type": "code",
      "source": [
        "from sympy import *\n",
        "r , t = symbols ('r,t')\n",
        "r1=4*(cos ( t ) ) ;\n",
        "r2=5*(sin ( t ) ) ;\n",
        "dr1 = diff ( r1 , t )\n",
        "dr2 = diff ( r2 , t )\n",
        "t1=r1/dr1\n",
        "t2=r2/dr2\n",
        "q= solve ( r1-r2 , t )\n",
        "w1=t1 . subs ({t: float ( q[0])})\n",
        "w2=t2 . subs ({t: float ( q[0])})\n",
        "y1= atan ( w1 )\n",
        "y2= atan ( w2 )\n",
        "w=abs( y1-y2 )\n",
        "print ('Angle between curves in radians is %0.4f '% float ( w ) )"
      ],
      "metadata": {
        "colab": {
          "base_uri": "https://localhost:8080/"
        },
        "id": "kizjlSn74jTf",
        "outputId": "4c4f454b-4e54-4166-a159-5bad741a64a7"
      },
      "execution_count": null,
      "outputs": [
        {
          "output_type": "stream",
          "name": "stdout",
          "text": [
            "Angle between curves in radians is 1.5708 \n"
          ]
        }
      ]
    },
    {
      "cell_type": "code",
      "source": [
        "\n",
        "from sympy import *\n",
        "t= Symbol ('t')\n",
        "r= Symbol ('r')\n",
        "r=4*( 1+cos( t ) )\n",
        "r1 = diff(r,t)\n",
        "r2 = diff(r1,t)\n",
        "rho = (r**2 + r1**2)**(1.5)/(r**2 + 2*r1**2 - r*r2)\n",
        "rho1 = rho.subs(t,pi/2)\n",
        "print ('The radius of curvature is %3.4f units '% rho1)"
      ],
      "metadata": {
        "colab": {
          "base_uri": "https://localhost:8080/"
        },
        "id": "Et2Uqf4q4pT-",
        "outputId": "5b933b69-b045-4d0d-b45d-8b89cca04ced"
      },
      "execution_count": 42,
      "outputs": [
        {
          "output_type": "stream",
          "name": "stdout",
          "text": [
            "The radius of curvature is 3.7712 units \n"
          ]
        }
      ]
    },
    {
      "cell_type": "code",
      "source": [
        "\n",
        "from sympy import *\n",
        "t ,r ,a , n= symbols ('t r a n')\n",
        "r=a*sin(n*t)\n",
        "r1= Derivative(r , t).doit()\n",
        "r2= Derivative(r1 , t).doit()\n",
        "rho =(r**2+r1**2)**(1.5)/(r**2+2*r1**2-r*r2)\n",
        "rho1 = rho.subs(t,pi/2)\n",
        "rho1 = rho1.subs(n,1)\n",
        "print(\"The radius of curvature is\")\n",
        "display(simplify(rho1))"
      ],
      "metadata": {
        "colab": {
          "base_uri": "https://localhost:8080/",
          "height": 76
        },
        "id": "i78kzFW34zmW",
        "outputId": "2c87c1a0-5f1b-4fdc-9f64-254a989644c5"
      },
      "execution_count": 46,
      "outputs": [
        {
          "output_type": "stream",
          "name": "stdout",
          "text": [
            "The radius of curvature is\n"
          ]
        },
        {
          "output_type": "display_data",
          "data": {
            "text/plain": [
              "(a**2)**1.5/(2*a**2)"
            ],
            "text/latex": "$\\displaystyle \\frac{\\left(a^{2}\\right)^{1.5}}{2 a^{2}}$"
          },
          "metadata": {}
        }
      ]
    },
    {
      "source": [
        "from sympy import *\n",
        "from sympy.abc import rho, x, y, r, K, t, a, b, c, alpha # define all symbols\n",
        "\n",
        "# required  <- Changed 'required' to a comment\n",
        "y = (sqrt(x) - 4)**2\n",
        "y = a*sin(t) # input the parametric equation\n",
        "x = a*cos(t)\n",
        "dydx = simplify(Derivative(y, t).doit()) / simplify(Derivative(x, t).doit())\n",
        "# find the derivative of parametric equation\n",
        "rho = simplify((1 + dydx**2)**1.5 / (Derivative(dydx, t).doit() / (Derivative(x, t).doit()))) # substitute the derivative in radius of curvature formula\n",
        "print('Radius of curvature is ')\n",
        "display(ratsimp(rho))\n",
        "t1 = pi/2\n",
        "r1 = 5\n",
        "rho1 = rho.subs(t, t1)\n",
        "rho2 = rho1.subs(a, r1)\n",
        "print('\\n\\nRadius of curvature at r=5 and t= pi/2 is ', simplify(rho2))\n",
        "curvature = 1/rho2\n",
        "print('\\n\\nCurvature at (5,pi/2) is ', float(curvature))\n",
        "\n",
        "# formula   <- Changed 'formula' to a comment\n",
        "print('Radius of curvature is ')\n",
        "display(ratsimp(rho))\n",
        "t1 = pi/2\n",
        "r1 = 5\n",
        "rho1 = rho.subs(t, t1)\n",
        "rho2 = rho1.subs(a, r1)\n",
        "print('\\n\\ nRadius of curvature at r=5 and t= pi/2 is ', simplify(rho2))\n",
        "curvature = 1/rho2\n",
        "print('\\n\\n Curvature at (5,pi/2) is ', float(curvature))"
      ],
      "cell_type": "code",
      "metadata": {
        "colab": {
          "base_uri": "https://localhost:8080/",
          "height": 353
        },
        "id": "CZ_t6zXI9_nj",
        "outputId": "deff5435-a6ae-4bc6-8701-abe7ba5f8514"
      },
      "execution_count": 38,
      "outputs": [
        {
          "output_type": "stream",
          "name": "stdout",
          "text": [
            "Radius of curvature is \n"
          ]
        },
        {
          "output_type": "display_data",
          "data": {
            "text/plain": [
              "-a*(sin(t)**(-2))**0.5*sin(t)"
            ],
            "text/latex": "$\\displaystyle - a \\left(\\frac{1}{\\sin^{2}{\\left(t \\right)}}\\right)^{0.5} \\sin{\\left(t \\right)}$"
          },
          "metadata": {}
        },
        {
          "output_type": "stream",
          "name": "stdout",
          "text": [
            "\n",
            "\n",
            "Radius of curvature at r=5 and t= pi/2 is  -5\n",
            "\n",
            "\n",
            "Curvature at (5,pi/2) is  -0.2\n",
            "Radius of curvature is \n"
          ]
        },
        {
          "output_type": "display_data",
          "data": {
            "text/plain": [
              "-a*(sin(t)**(-2))**0.5*sin(t)"
            ],
            "text/latex": "$\\displaystyle - a \\left(\\frac{1}{\\sin^{2}{\\left(t \\right)}}\\right)^{0.5} \\sin{\\left(t \\right)}$"
          },
          "metadata": {}
        },
        {
          "output_type": "stream",
          "name": "stdout",
          "text": [
            "\n",
            "\\ nRadius of curvature at r=5 and t= pi/2 is  -5\n",
            "\n",
            "\n",
            " Curvature at (5,pi/2) is  -0.2\n"
          ]
        }
      ]
    },
    {
      "cell_type": "code",
      "source": [
        "from sympy import *\n",
        "from sympy . abc import rho , x ,y ,r ,K ,t ,a ,b ,c , alpha\n",
        "y=( a*sin( t ) ) ** ( 3/2 )\n",
        "from sympy import *\n",
        "from sympy.abc import rho, x, y, r, K, t, a, b, c, alpha\n",
        "y = (a*sin(t))**(3/2)\n",
        "x = (a*cos(t))**(3/2)\n",
        "dydx = simplify(Derivative(y, t).doit())/simplify(Derivative(x, t).doit())\n",
        "rho = simplify((1 + dydx**2)**(1.5)/(Derivative(dydx, t).doit()/(Derivative(x, t).doit())))\n",
        "print('Radius of curvature is ')\n",
        "display(ratsimp(rho))\n",
        "t1 = pi/4\n",
        "r1 = 1\n",
        "rho1 = rho.subs(t, t1)\n",
        "rho2 = rho1.subs(a, r1)\n",
        "display('Radius of curvature at r=1 and t=pi/4 is ', simplify(rho2))\n",
        "curvature = 1/rho2\n",
        "print('\\n\\n Curvature at (1,pi/4) is ', float(curvature))\n",
        "display ( ratsimp ( rho ) )\n",
        "t1=pi/4\n",
        "r1=1 ;\n",
        "rho1 = rho . subs (t , t1 ) ;\n",
        "rho2 = rho1 . subs (a , r1 ) ;\n",
        "display ('Radius of curvature at r=1 and t=pi/4 is ', simplify ( rho2 ) ) ;\n",
        "curvature =1/ rho2 ;\n",
        "print ('\\n\\n Curvature at (1,pi/4) is ',float ( curvature ) )"
      ],
      "metadata": {
        "colab": {
          "base_uri": "https://localhost:8080/",
          "height": 389
        },
        "id": "A-12L8vU-HP1",
        "outputId": "59568c10-cb79-43c1-91a6-8b8122ac8fc1"
      },
      "execution_count": 41,
      "outputs": [
        {
          "output_type": "stream",
          "name": "stdout",
          "text": [
            "Radius of curvature is \n"
          ]
        },
        {
          "output_type": "display_data",
          "data": {
            "text/plain": [
              "-3.0*(a*cos(t))**3.0*((a*sin(t))**3.0/((a*cos(t))**3.0*tan(t)**4) + 1)**1.5*sin(t)**2*tan(t)**2/(a*sin(t))**1.5"
            ],
            "text/latex": "$\\displaystyle - \\frac{3.0 \\left(a \\cos{\\left(t \\right)}\\right)^{3.0} \\left(\\frac{\\left(a \\sin{\\left(t \\right)}\\right)^{3.0}}{\\left(a \\cos{\\left(t \\right)}\\right)^{3.0} \\tan^{4}{\\left(t \\right)}} + 1\\right)^{1.5} \\sin^{2}{\\left(t \\right)} \\tan^{2}{\\left(t \\right)}}{\\left(a \\sin{\\left(t \\right)}\\right)^{1.5}}$"
          },
          "metadata": {}
        },
        {
          "output_type": "display_data",
          "data": {
            "text/plain": [
              "'Radius of curvature at r=1 and t=pi/4 is '"
            ],
            "application/vnd.google.colaboratory.intrinsic+json": {
              "type": "string"
            }
          },
          "metadata": {}
        },
        {
          "output_type": "display_data",
          "data": {
            "text/plain": [
              "-2.52268924576114"
            ],
            "text/latex": "$\\displaystyle -2.52268924576114$"
          },
          "metadata": {}
        },
        {
          "output_type": "stream",
          "name": "stdout",
          "text": [
            "\n",
            "\n",
            " Curvature at (1,pi/4) is  -0.39640237166757364\n"
          ]
        },
        {
          "output_type": "display_data",
          "data": {
            "text/plain": [
              "-3.0*(a*cos(t))**3.0*((a*sin(t))**3.0/((a*cos(t))**3.0*tan(t)**4) + 1)**1.5*sin(t)**2*tan(t)**2/(a*sin(t))**1.5"
            ],
            "text/latex": "$\\displaystyle - \\frac{3.0 \\left(a \\cos{\\left(t \\right)}\\right)^{3.0} \\left(\\frac{\\left(a \\sin{\\left(t \\right)}\\right)^{3.0}}{\\left(a \\cos{\\left(t \\right)}\\right)^{3.0} \\tan^{4}{\\left(t \\right)}} + 1\\right)^{1.5} \\sin^{2}{\\left(t \\right)} \\tan^{2}{\\left(t \\right)}}{\\left(a \\sin{\\left(t \\right)}\\right)^{1.5}}$"
          },
          "metadata": {}
        },
        {
          "output_type": "display_data",
          "data": {
            "text/plain": [
              "'Radius of curvature at r=1 and t=pi/4 is '"
            ],
            "application/vnd.google.colaboratory.intrinsic+json": {
              "type": "string"
            }
          },
          "metadata": {}
        },
        {
          "output_type": "display_data",
          "data": {
            "text/plain": [
              "-2.52268924576114"
            ],
            "text/latex": "$\\displaystyle -2.52268924576114$"
          },
          "metadata": {}
        },
        {
          "output_type": "stream",
          "name": "stdout",
          "text": [
            "\n",
            "\n",
            " Curvature at (1,pi/4) is  -0.39640237166757364\n"
          ]
        }
      ]
    }
  ]
}